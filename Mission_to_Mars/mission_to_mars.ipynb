{
 "metadata": {
  "language_info": {
   "codemirror_mode": {
    "name": "ipython",
    "version": 3
   },
   "file_extension": ".py",
   "mimetype": "text/x-python",
   "name": "python",
   "nbconvert_exporter": "python",
   "pygments_lexer": "ipython3",
   "version": "3.7.9"
  },
  "orig_nbformat": 4,
  "kernelspec": {
   "name": "python3",
   "display_name": "Python 3.7.9 64-bit ('PythonData': conda)"
  },
  "interpreter": {
   "hash": "e3896c66a75c41725fea970d0c2a2982cf91def990c8dcb709e7b9c0cc3a398d"
  }
 },
 "nbformat": 4,
 "nbformat_minor": 2,
 "cells": [
  {
   "cell_type": "code",
   "execution_count": null,
   "metadata": {},
   "outputs": [],
   "source": [
    "news_title = \"NASA's Perseverance Rover Begins Its First Science Campaign on Mars\"\n",
    "\n",
    "news_par = \"The six-wheeled scientist is heading south to explore Jezero Crater’s lakebed in search of signs of ancient microbial life.\"\n",
    "\n",
    "featured_img_url = 'https://data-class-jpl-space.s3.amazonaws.com/JPL_Space/image/featured/mars1.jpg'"
   ]
  }
 ]
}