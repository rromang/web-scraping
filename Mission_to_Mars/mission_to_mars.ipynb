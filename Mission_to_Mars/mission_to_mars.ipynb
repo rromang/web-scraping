{
 "metadata": {
  "language_info": {
   "codemirror_mode": {
    "name": "ipython",
    "version": 3
   },
   "file_extension": ".py",
   "mimetype": "text/x-python",
   "name": "python",
   "nbconvert_exporter": "python",
   "pygments_lexer": "ipython3",
   "version": "3.7.9"
  },
  "orig_nbformat": 4,
  "kernelspec": {
   "name": "python3",
   "display_name": "Python 3.7.9 64-bit ('PythonData': conda)"
  },
  "interpreter": {
   "hash": "e3896c66a75c41725fea970d0c2a2982cf91def990c8dcb709e7b9c0cc3a398d"
  }
 },
 "nbformat": 4,
 "nbformat_minor": 2,
 "cells": [
  {
   "cell_type": "code",
   "execution_count": 1,
   "metadata": {},
   "outputs": [],
   "source": [
    "from bs4 import BeautifulSoup as bs"
   ]
  },
  {
   "cell_type": "code",
   "execution_count": 2,
   "metadata": {},
   "outputs": [],
   "source": [
    "url = \"https://mars.nasa.gov/news/?page=0&per_page=40&order=publish_date+desc%2Ccreated_at+desc&search=&category=19%2C165%2C184%2C204&blank_scope=Latest\""
   ]
  },
  {
   "cell_type": "code",
   "execution_count": 95,
   "metadata": {},
   "outputs": [
    {
     "output_type": "stream",
     "name": "stderr",
     "text": [
      "ipykernel_launcher:7: DeprecationWarning: use options instead of chrome_options\n"
     ]
    }
   ],
   "source": [
    "from selenium import webdriver\n",
    "# followed example from https://medium.com/ymedialabs-innovation/web-scraping-using-beautiful-soup-and-selenium-for-dynamic-page-2f8ad15efe25\n",
    "options = webdriver.ChromeOptions()\n",
    "options.add_argument('--ignore-certificate-errors')\n",
    "options.add_argument('--incognito')\n",
    "options.add_argument('--headless')\n",
    "driver = webdriver.Chrome(\"/Users/rosaicelaroman/Desktop/Data_BootCamp/APIs/chromedriver\", chrome_options=options)\n"
   ]
  },
  {
   "cell_type": "code",
   "execution_count": 4,
   "metadata": {},
   "outputs": [],
   "source": [
    "driver.get(url)"
   ]
  },
  {
   "cell_type": "code",
   "execution_count": 5,
   "metadata": {},
   "outputs": [],
   "source": [
    "page_source = driver.page_source"
   ]
  },
  {
   "cell_type": "code",
   "execution_count": 6,
   "metadata": {},
   "outputs": [],
   "source": [
    "soup = bs(page_source, 'html')"
   ]
  },
  {
   "cell_type": "code",
   "execution_count": 7,
   "metadata": {
    "tags": [
     "outputPrepend"
    ]
   },
   "outputs": [
    {
     "output_type": "stream",
     "name": "stdout",
     "text": [
      "=\"_self\">\n                News\n               </a>\n              </li>\n              <li>\n               <a href=\"/events\" target=\"_self\">\n                Events\n               </a>\n              </li>\n             </ul>\n            </div>\n           </li>\n          </ul>\n         </div>\n        </div>\n        <div class=\"sitemap_block\" style=\"position: absolute; left: 529px; top: 0px;\">\n         <div class=\"footer_sitemap_item\">\n          <h3 class=\"sitemap_title\">\n           <a href=\"/#multimedia\">\n            Multimedia\n           </a>\n          </h3>\n          <ul>\n           <li>\n            <div class=\"global_subnav_container\">\n             <ul class=\"subnav\">\n              <li>\n               <a href=\"/multimedia/images/\" target=\"_self\">\n                Images\n               </a>\n              </li>\n              <li>\n               <a href=\"/multimedia/videos/\" target=\"_self\">\n                Videos\n               </a>\n              </li>\n              <li>\n               <a href=\"/mars2020/multimedia/audio/\" target=\"_self\">\n                Audio\n               </a>\n              </li>\n              <li>\n               <a href=\"/multimedia/more-resources/\" target=\"_self\">\n                More Resources\n               </a>\n              </li>\n             </ul>\n            </div>\n           </li>\n          </ul>\n         </div>\n        </div>\n        <div class=\"sitemap_block\" style=\"position: absolute; left: 353px; top: 108px;\">\n         <div class=\"footer_sitemap_item\">\n          <h3 class=\"sitemap_title\">\n           <a href=\"/#missions_gallery_subnav\">\n            Missions\n           </a>\n          </h3>\n          <ul>\n           <li>\n            <div class=\"global_subnav_container\">\n             <ul class=\"subnav\">\n              <li>\n               <a href=\"/mars-exploration/missions/?category=167\" target=\"_self\">\n                Past\n               </a>\n              </li>\n              <li>\n               <a href=\"/mars-exploration/missions/?category=170\" target=\"_self\">\n                Present\n               </a>\n              </li>\n              <li>\n               <a href=\"/mars-exploration/missions/?category=171\" target=\"_self\">\n                Future\n               </a>\n              </li>\n              <li>\n               <a href=\"/mars-exploration/partners\" target=\"_self\">\n                International Partners\n               </a>\n              </li>\n             </ul>\n            </div>\n           </li>\n          </ul>\n         </div>\n        </div>\n        <div class=\"sitemap_block\" style=\"position: absolute; left: 529px; top: 160px;\">\n         <div class=\"footer_sitemap_item\">\n          <h3 class=\"sitemap_title\">\n           <a href=\"/#more\">\n            More\n           </a>\n          </h3>\n          <ul>\n           <li>\n            <div class=\"global_subnav_container\">\n             <ul class=\"subnav\">\n             </ul>\n            </div>\n           </li>\n          </ul>\n         </div>\n        </div>\n       </div>\n       <div class=\"gradient_line\">\n       </div>\n      </section>\n      <section class=\"lower_footer\">\n       <div class=\"nav_container\">\n        <nav>\n         <ul>\n          <li>\n           <a href=\"http://science.nasa.gov/\" target=\"_blank\">\n            NASA Science Mission Directorate\n           </a>\n          </li>\n          <li>\n           <a href=\"https://www.jpl.nasa.gov/copyrights.php\" target=\"_blank\">\n            Privacy\n           </a>\n          </li>\n          <li>\n           <a href=\"http://www.jpl.nasa.gov/imagepolicy/\" target=\"_blank\">\n            Image Policy\n           </a>\n          </li>\n          <li>\n           <a href=\"https://mars.nasa.gov/feedback/\" target=\"_self\">\n            Feedback\n           </a>\n          </li>\n         </ul>\n        </nav>\n       </div>\n       <div class=\"credits\">\n        <div class=\"footer_brands_top\">\n         <p>\n          Managed by the Mars Exploration Program and the Jet Propulsion Laboratory for NASA’s Science Mission Directorate\n         </p>\n        </div>\n        <!-- .footer_brands -->\n        <!-- %a.jpl{href: \"\", target: \"_blank\"}Institution -->\n        <!-- -->\n        <!-- %a.caltech{href: \"\", target: \"_blank\"}Institution -->\n        <!-- .staff -->\n        <!-- %p -->\n        <!-- - get_staff_for_category(get_field_from_admin_config(:web_staff_category_id)) -->\n        <!-- - @staff.each_with_index do |staff, idx| -->\n        <!-- - unless staff.is_in_footer == 0 -->\n        <!-- = staff.title + \": \" -->\n        <!-- - if staff.contact_link =~ /@/ -->\n        <!-- = mail_to staff.contact_link, staff.name, :subject => \"[#{@site_title}]\" -->\n        <!-- - elsif staff.contact_link.present? -->\n        <!-- = link_to staff.name, staff.contact_link -->\n        <!-- - else -->\n        <!-- = staff.name -->\n        <!-- - unless (idx + 1 == @staff.size) -->\n        <!-- %br -->\n       </div>\n      </section>\n     </div>\n    </footer>\n   </div>\n  </div>\n  <div id=\"_atssh\" style=\"visibility: hidden; height: 1px; width: 1px; position: absolute; top: -9999px; z-index: 100000;\">\n   <iframe id=\"_atssh669\" src=\"https://s7.addthis.com/static/sh.f48a1a04fe8dbf021b4cda1d.html#rand=0.2470784444179701&amp;iit=1623620170730&amp;tmr=load%3D1623620170395%26core%3D1623620170419%26main%3D1623620170727%26ifr%3D1623620170732&amp;cb=0&amp;cdn=0&amp;md=0&amp;kw=Mars%2Cmissions%2CNASA%2Crover%2CCuriosity%2COpportunity%2CInSight%2CMars%20Reconnaissance%20Orbiter%2Cfacts&amp;ab=-&amp;dh=mars.nasa.gov&amp;dr=&amp;du=https%3A%2F%2Fmars.nasa.gov%2Fnews%2F%3Fpage%3D0%26per_page%3D40%26order%3Dpublish_date%2Bdesc%252Ccreated_at%2Bdesc%26search%3D%26category%3D19%252C165%252C184%252C204%26blank_scope%3DLatest&amp;href=https%3A%2F%2Fmars.nasa.gov%2Fnews%2F&amp;dt=News%20%20%E2%80%93%20NASA%E2%80%99s%20Mars%20Exploration%20Program&amp;dbg=0&amp;cap=tc%3D0%26ab%3D0&amp;inst=1&amp;jsl=1&amp;prod=undefined&amp;lng=en&amp;ogt=image%2Cupdated_time%2Ctype%3Darticle%2Curl%2Ctitle%2Cdescription%2Csite_name&amp;pc=men&amp;pub=ra-5a690e4c1320e328&amp;ssl=1&amp;sid=60c67a4ac0118c26&amp;srf=0.01&amp;ver=300&amp;xck=1&amp;xtr=0&amp;og=site_name%3DNASA%25E2%2580%2599s%2520Mars%2520Exploration%2520Program%26description%3DNASA%25E2%2580%2599s%2520real-time%2520portal%2520for%2520Mars%2520exploration%252C%2520featuring%2520the%2520latest%2520news%252C%2520images%252C%2520and%2520discoveries%2520from%2520the%2520Red%2520Planet.%26title%3DNews%2520%2520%25E2%2580%2593%2520NASA%25E2%2580%2599s%2520Mars%2520Exploration%2520Program%26url%3Dhttps%253A%252F%252Fmars.nasa.gov%252Fnews%253Fpage%253D0%2526per_page%253D40%2526order%253Dpublish_date%252Bdesc%25252Ccreated_at%252Bdesc%2526search%253D%2526category%253D19%25252C165%25252C184%25252C204%2526blank_scope%253DLatest%26type%3Darticle%26updated_time%3D2017-09-22%252019%253A53%253A22%2520UTC%26image%3Dhttps%253A%252F%252Fmars.nasa.gov%252Fsystem%252Fsite_config_values%252Fmeta_share_images%252F1_mars-nasa-gov.jpg&amp;csi=undefined&amp;rev=v8.28.8-wp&amp;ct=1&amp;xld=1&amp;xd=1\" style=\"height: 1px; width: 1px; position: absolute; top: 0px; z-index: 100000; border: 0px; left: 0px;\" title=\"AddThis utility frame\">\n   </iframe>\n  </div>\n  <style id=\"service-icons-0\">\n  </style>\n  <script id=\"_fed_an_ua_tag\" src=\"https://dap.digitalgov.gov/Universal-Federated-Analytics-Min.js?agency=NASA&amp;subagency=JPL-Mars-MEPJPL&amp;pua=UA-9453474-9,UA-118212757-11&amp;dclink=true&amp;sp=searchbox&amp;exts=tif,tiff,wav\" type=\"text/javascript\">\n  </script>\n  <div aria-labelledby=\"at4-share-label\" class=\"addthis-smartlayers addthis-smartlayers-desktop\" role=\"region\">\n   <div id=\"at4-share-label\">\n    AddThis Sharing Sidebar\n   </div>\n   <div class=\"at4-share addthis_32x32_style atss atss-left addthis-animated slideInLeft\" id=\"at4-share\">\n    <a class=\"at-share-btn at-svc-facebook\" role=\"button\" tabindex=\"0\">\n     <span class=\"at4-visually-hidden\">\n      Share to Facebook\n     </span>\n     <span class=\"at-icon-wrapper\" style=\"background-color: rgb(59, 89, 152);\">\n      <svg aria-labelledby=\"at-svg-facebook-1\" class=\"at-icon at-icon-facebook\" role=\"img\" style=\"fill: rgb(255, 255, 255);\" version=\"1.1\" viewbox=\"0 0 32 32\" xmlns=\"http://www.w3.org/2000/svg\" xmlns:xlink=\"http://www.w3.org/1999/xlink\">\n       <title id=\"at-svg-facebook-1\">\n        Facebook\n       </title>\n       <g>\n        <path d=\"M22 5.16c-.406-.054-1.806-.16-3.43-.16-3.4 0-5.733 1.825-5.733 5.17v2.882H9v3.913h3.837V27h4.604V16.965h3.823l.587-3.913h-4.41v-2.5c0-1.123.347-1.903 2.198-1.903H22V5.16z\" fill-rule=\"evenodd\">\n        </path>\n       </g>\n      </svg>\n     </span>\n    </a>\n    <a class=\"at-share-btn at-svc-reddit\" role=\"button\" tabindex=\"0\">\n     <span class=\"at4-visually-hidden\">\n      Share to Reddit\n     </span>\n     <span class=\"at-icon-wrapper\" style=\"background-color: rgb(255, 87, 0);\">\n      <svg aria-labelledby=\"at-svg-reddit-2\" class=\"at-icon at-icon-reddit\" role=\"img\" style=\"fill: rgb(255, 255, 255);\" version=\"1.1\" viewbox=\"0 0 32 32\" xmlns=\"http://www.w3.org/2000/svg\" xmlns:xlink=\"http://www.w3.org/1999/xlink\">\n       <title id=\"at-svg-reddit-2\">\n        Reddit\n       </title>\n       <g>\n        <path d=\"M27 15.5a2.452 2.452 0 0 1-1.338 2.21c.098.38.147.777.147 1.19 0 1.283-.437 2.47-1.308 3.563-.872 1.092-2.06 1.955-3.567 2.588-1.506.634-3.143.95-4.91.95-1.768 0-3.403-.316-4.905-.95-1.502-.632-2.69-1.495-3.56-2.587-.872-1.092-1.308-2.28-1.308-3.562 0-.388.045-.777.135-1.166a2.47 2.47 0 0 1-1.006-.912c-.253-.4-.38-.842-.38-1.322 0-.678.237-1.26.712-1.744a2.334 2.334 0 0 1 1.73-.726c.697 0 1.29.26 1.78.782 1.785-1.258 3.893-1.928 6.324-2.01l1.424-6.467a.42.42 0 0 1 .184-.26.4.4 0 0 1 .32-.063l4.53 1.006c.147-.306.368-.553.662-.74a1.78 1.78 0 0 1 .97-.278c.508 0 .94.18 1.302.54.36.36.54.796.54 1.31 0 .512-.18.95-.54 1.315-.36.364-.794.546-1.302.546-.507 0-.94-.18-1.295-.54a1.793 1.793 0 0 1-.533-1.308l-4.1-.92-1.277 5.86c2.455.074 4.58.736 6.37 1.985a2.315 2.315 0 0 1 1.757-.757c.68 0 1.256.242 1.73.726.476.484.713 1.066.713 1.744zm-16.868 2.47c0 .513.178.95.534 1.315.356.365.787.547 1.295.547.508 0 .942-.182 1.302-.547.36-.364.54-.802.54-1.315 0-.513-.18-.95-.54-1.31-.36-.36-.794-.54-1.3-.54-.5 0-.93.183-1.29.547a1.79 1.79 0 0 0-.54 1.303zm9.944 4.406c.09-.09.135-.2.135-.323a.444.444 0 0 0-.44-.447c-.124 0-.23.042-.32.124-.336.348-.83.605-1.486.77a7.99 7.99 0 0 1-1.964.248 7.99 7.99 0 0 1-1.964-.248c-.655-.165-1.15-.422-1.486-.77a.456.456 0 0 0-.32-.124.414.414 0 0 0-.306.124.41.41 0 0 0-.135.317.45.45 0 0 0 .134.33c.352.355.837.636 1.455.843.617.207 1.118.33 1.503.366a11.6 11.6 0 0 0 1.117.056c.36 0 .733-.02 1.117-.056.385-.037.886-.16 1.504-.366.62-.207 1.104-.488 1.456-.844zm-.037-2.544c.507 0 .938-.182 1.294-.547.356-.364.534-.802.534-1.315 0-.505-.18-.94-.54-1.303a1.75 1.75 0 0 0-1.29-.546c-.506 0-.94.18-1.3.54-.36.36-.54.797-.54 1.31s.18.95.54 1.315c.36.365.794.547 1.3.547z\" fill-rule=\"evenodd\">\n        </path>\n       </g>\n      </svg>\n     </span>\n    </a>\n    <a class=\"at-share-btn at-svc-twitter\" role=\"button\" tabindex=\"0\">\n     <span class=\"at4-visually-hidden\">\n      Share to Twitter\n     </span>\n     <span class=\"at-icon-wrapper\" style=\"background-color: rgb(29, 161, 242);\">\n      <svg aria-labelledby=\"at-svg-twitter-3\" class=\"at-icon at-icon-twitter\" role=\"img\" style=\"fill: rgb(255, 255, 255);\" version=\"1.1\" viewbox=\"0 0 32 32\" xmlns=\"http://www.w3.org/2000/svg\" xmlns:xlink=\"http://www.w3.org/1999/xlink\">\n       <title id=\"at-svg-twitter-3\">\n        Twitter\n       </title>\n       <g>\n        <path d=\"M27.996 10.116c-.81.36-1.68.602-2.592.71a4.526 4.526 0 0 0 1.984-2.496 9.037 9.037 0 0 1-2.866 1.095 4.513 4.513 0 0 0-7.69 4.116 12.81 12.81 0 0 1-9.3-4.715 4.49 4.49 0 0 0-.612 2.27 4.51 4.51 0 0 0 2.008 3.755 4.495 4.495 0 0 1-2.044-.564v.057a4.515 4.515 0 0 0 3.62 4.425 4.52 4.52 0 0 1-2.04.077 4.517 4.517 0 0 0 4.217 3.134 9.055 9.055 0 0 1-5.604 1.93A9.18 9.18 0 0 1 6 23.85a12.773 12.773 0 0 0 6.918 2.027c8.3 0 12.84-6.876 12.84-12.84 0-.195-.005-.39-.014-.583a9.172 9.172 0 0 0 2.252-2.336\" fill-rule=\"evenodd\">\n        </path>\n       </g>\n      </svg>\n     </span>\n    </a>\n    <a class=\"at-share-btn at-svc-compact\" role=\"button\" tabindex=\"0\">\n     <span class=\"at4-visually-hidden\">\n      More AddThis Share options\n     </span>\n     <span class=\"at-icon-wrapper\" style=\"background-color: rgb(255, 101, 80);\">\n      <svg aria-labelledby=\"at-svg-addthis-4\" class=\"at-icon at-icon-addthis\" role=\"img\" style=\"fill: rgb(255, 255, 255);\" version=\"1.1\" viewbox=\"0 0 32 32\" xmlns=\"http://www.w3.org/2000/svg\" xmlns:xlink=\"http://www.w3.org/1999/xlink\">\n       <title id=\"at-svg-addthis-4\">\n        AddThis\n       </title>\n       <g>\n        <path d=\"M18 14V8h-4v6H8v4h6v6h4v-6h6v-4h-6z\" fill-rule=\"evenodd\">\n        </path>\n       </g>\n      </svg>\n     </span>\n    </a>\n    <div class=\"at-custom-sidebar-counter\" style=\"width: 48px; overflow-wrap: break-word;\">\n     <div class=\"at-custom-sidebar-count\" style=\"color: rgb(34, 34, 34);\">\n      259\n     </div>\n     <div class=\"at-custom-sidebar-text\" style=\"color: rgb(34, 34, 34);\">\n      SHARES\n     </div>\n    </div>\n    <div class=\"at-share-close-control ats-transparent at4-hide-content at4-show\" id=\"at4-scc\" title=\"Hide\">\n     <div class=\"at4-arrow at-left\">\n      Hide\n     </div>\n    </div>\n   </div>\n   <div class=\"at-share-open-control at-share-open-control-left ats-transparent at4-hide\" id=\"at4-soc\" title=\"Show\">\n    <div class=\"at4-arrow at-right\">\n     Show\n    </div>\n   </div>\n  </div>\n  <div aria-labelledby=\"at-thankyou-label\" class=\"at4-thankyou at4-thankyou-background at4-hide ats-transparent at4-thankyou-desktop addthis-smartlayers addthis-animated fadeIn at4-show\" id=\"at4-thankyou\" role=\"dialog\">\n   <div class=\"at4lb-inner\">\n    <button class=\"at4x\" title=\"Close\">\n     Close\n    </button>\n    <a id=\"at4-palogo\">\n     <div>\n      <a class=\"at-branding-logo\" href=\"https://www.addthis.com/website-tools/overview?utm_source=AddThis%20Tools&amp;utm_medium=image\" target=\"_blank\" title=\"Powered by AddThis\">\n       <div class=\"at-branding-icon\">\n       </div>\n       <span class=\"at-branding-addthis\">\n        AddThis\n       </span>\n      </a>\n     </div>\n    </a>\n    <div class=\"at4-thankyou-inner\">\n     <div class=\"thankyou-title\" id=\"at-thankyou-label\">\n     </div>\n     <div class=\"thankyou-description\">\n     </div>\n     <div class=\"at4-thankyou-layer\">\n     </div>\n    </div>\n   </div>\n  </div>\n  <div aria-labelledby=\"at-share-dock-label\" class=\"at-share-dock-outer at4-hide addthis-smartlayers at4-visually-hidden addthis-smartlayers-mobile\" role=\"region\">\n   <div class=\"at4-hide\" id=\"at-share-dock-label\">\n    AddThis Sharing\n   </div>\n   <div class=\"at-share-dock atss atss-bottom at-shfs-small addthis-animated slideInUp at4-show at4-hide\" id=\"at-share-dock\">\n    <a class=\"at4-count\" href=\"#\" style=\"width: 20%;\">\n     <span class=\"at4-counter\">\n     </span>\n     <span class=\"at4-share-label\">\n      SHARES\n     </span>\n    </a>\n    <a class=\"at-share-btn at-svc-facebook\" role=\"button\" style=\"width: 20%;\" tabindex=\"0\" title=\"Facebook\">\n     <span class=\"at-icon-wrapper\" style=\"background-color: rgb(59, 89, 152);\">\n      <svg alt=\"Facebook\" aria-labelledby=\"at-svg-facebook-5\" class=\"at-icon at-icon-facebook\" role=\"img\" style=\"fill: rgb(255, 255, 255); width: 24px; height: 24px;\" title=\"Facebook\" version=\"1.1\" viewbox=\"0 0 32 32\" xmlns=\"http://www.w3.org/2000/svg\" xmlns:xlink=\"http://www.w3.org/1999/xlink\">\n       <title id=\"at-svg-facebook-5\">\n        Facebook\n       </title>\n       <g>\n        <path d=\"M22 5.16c-.406-.054-1.806-.16-3.43-.16-3.4 0-5.733 1.825-5.733 5.17v2.882H9v3.913h3.837V27h4.604V16.965h3.823l.587-3.913h-4.41v-2.5c0-1.123.347-1.903 2.198-1.903H22V5.16z\" fill-rule=\"evenodd\">\n        </path>\n       </g>\n      </svg>\n     </span>\n    </a>\n    <a class=\"at-share-btn at-svc-reddit\" role=\"button\" style=\"width: 20%;\" tabindex=\"0\" title=\"Reddit\">\n     <span class=\"at-icon-wrapper\" style=\"background-color: rgb(255, 87, 0);\">\n      <svg alt=\"Reddit\" aria-labelledby=\"at-svg-reddit-6\" class=\"at-icon at-icon-reddit\" role=\"img\" style=\"fill: rgb(255, 255, 255); width: 24px; height: 24px;\" title=\"Reddit\" version=\"1.1\" viewbox=\"0 0 32 32\" xmlns=\"http://www.w3.org/2000/svg\" xmlns:xlink=\"http://www.w3.org/1999/xlink\">\n       <title id=\"at-svg-reddit-6\">\n        Reddit\n       </title>\n       <g>\n        <path d=\"M27 15.5a2.452 2.452 0 0 1-1.338 2.21c.098.38.147.777.147 1.19 0 1.283-.437 2.47-1.308 3.563-.872 1.092-2.06 1.955-3.567 2.588-1.506.634-3.143.95-4.91.95-1.768 0-3.403-.316-4.905-.95-1.502-.632-2.69-1.495-3.56-2.587-.872-1.092-1.308-2.28-1.308-3.562 0-.388.045-.777.135-1.166a2.47 2.47 0 0 1-1.006-.912c-.253-.4-.38-.842-.38-1.322 0-.678.237-1.26.712-1.744a2.334 2.334 0 0 1 1.73-.726c.697 0 1.29.26 1.78.782 1.785-1.258 3.893-1.928 6.324-2.01l1.424-6.467a.42.42 0 0 1 .184-.26.4.4 0 0 1 .32-.063l4.53 1.006c.147-.306.368-.553.662-.74a1.78 1.78 0 0 1 .97-.278c.508 0 .94.18 1.302.54.36.36.54.796.54 1.31 0 .512-.18.95-.54 1.315-.36.364-.794.546-1.302.546-.507 0-.94-.18-1.295-.54a1.793 1.793 0 0 1-.533-1.308l-4.1-.92-1.277 5.86c2.455.074 4.58.736 6.37 1.985a2.315 2.315 0 0 1 1.757-.757c.68 0 1.256.242 1.73.726.476.484.713 1.066.713 1.744zm-16.868 2.47c0 .513.178.95.534 1.315.356.365.787.547 1.295.547.508 0 .942-.182 1.302-.547.36-.364.54-.802.54-1.315 0-.513-.18-.95-.54-1.31-.36-.36-.794-.54-1.3-.54-.5 0-.93.183-1.29.547a1.79 1.79 0 0 0-.54 1.303zm9.944 4.406c.09-.09.135-.2.135-.323a.444.444 0 0 0-.44-.447c-.124 0-.23.042-.32.124-.336.348-.83.605-1.486.77a7.99 7.99 0 0 1-1.964.248 7.99 7.99 0 0 1-1.964-.248c-.655-.165-1.15-.422-1.486-.77a.456.456 0 0 0-.32-.124.414.414 0 0 0-.306.124.41.41 0 0 0-.135.317.45.45 0 0 0 .134.33c.352.355.837.636 1.455.843.617.207 1.118.33 1.503.366a11.6 11.6 0 0 0 1.117.056c.36 0 .733-.02 1.117-.056.385-.037.886-.16 1.504-.366.62-.207 1.104-.488 1.456-.844zm-.037-2.544c.507 0 .938-.182 1.294-.547.356-.364.534-.802.534-1.315 0-.505-.18-.94-.54-1.303a1.75 1.75 0 0 0-1.29-.546c-.506 0-.94.18-1.3.54-.36.36-.54.797-.54 1.31s.18.95.54 1.315c.36.365.794.547 1.3.547z\" fill-rule=\"evenodd\">\n        </path>\n       </g>\n      </svg>\n     </span>\n    </a>\n    <a class=\"at-share-btn at-svc-twitter\" role=\"button\" style=\"width: 20%;\" tabindex=\"0\" title=\"Twitter\">\n     <span class=\"at-icon-wrapper\" style=\"background-color: rgb(29, 161, 242);\">\n      <svg alt=\"Twitter\" aria-labelledby=\"at-svg-twitter-7\" class=\"at-icon at-icon-twitter\" role=\"img\" style=\"fill: rgb(255, 255, 255); width: 24px; height: 24px;\" title=\"Twitter\" version=\"1.1\" viewbox=\"0 0 32 32\" xmlns=\"http://www.w3.org/2000/svg\" xmlns:xlink=\"http://www.w3.org/1999/xlink\">\n       <title id=\"at-svg-twitter-7\">\n        Twitter\n       </title>\n       <g>\n        <path d=\"M27.996 10.116c-.81.36-1.68.602-2.592.71a4.526 4.526 0 0 0 1.984-2.496 9.037 9.037 0 0 1-2.866 1.095 4.513 4.513 0 0 0-7.69 4.116 12.81 12.81 0 0 1-9.3-4.715 4.49 4.49 0 0 0-.612 2.27 4.51 4.51 0 0 0 2.008 3.755 4.495 4.495 0 0 1-2.044-.564v.057a4.515 4.515 0 0 0 3.62 4.425 4.52 4.52 0 0 1-2.04.077 4.517 4.517 0 0 0 4.217 3.134 9.055 9.055 0 0 1-5.604 1.93A9.18 9.18 0 0 1 6 23.85a12.773 12.773 0 0 0 6.918 2.027c8.3 0 12.84-6.876 12.84-12.84 0-.195-.005-.39-.014-.583a9.172 9.172 0 0 0 2.252-2.336\" fill-rule=\"evenodd\">\n        </path>\n       </g>\n      </svg>\n     </span>\n    </a>\n    <a class=\"at-share-btn at-svc-compact\" role=\"button\" style=\"width: 20%;\" tabindex=\"0\" title=\"More\">\n     <span class=\"at-icon-wrapper\" style=\"background-color: rgb(255, 101, 80);\">\n      <svg alt=\"More\" aria-labelledby=\"at-svg-addthis-8\" class=\"at-icon at-icon-addthis\" role=\"img\" style=\"fill: rgb(255, 255, 255); width: 24px; height: 24px;\" title=\"More\" version=\"1.1\" viewbox=\"0 0 32 32\" xmlns=\"http://www.w3.org/2000/svg\" xmlns:xlink=\"http://www.w3.org/1999/xlink\">\n       <title id=\"at-svg-addthis-8\">\n        AddThis\n       </title>\n       <g>\n        <path d=\"M18 14V8h-4v6H8v4h6v6h4v-6h6v-4h-6z\" fill-rule=\"evenodd\">\n        </path>\n       </g>\n      </svg>\n     </span>\n    </a>\n   </div>\n  </div>\n </body>\n</html>\n"
     ]
    }
   ],
   "source": [
    "print(soup.prettify())"
   ]
  },
  {
   "cell_type": "code",
   "execution_count": 8,
   "metadata": {},
   "outputs": [
    {
     "output_type": "stream",
     "name": "stdout",
     "text": [
      "[\"NASA's Perseverance Rover Begins Its First Science Campaign on Mars\", \"NASA's InSight Mars Lander Gets a Power Boost\", \"NASA's Curiosity Rover Captures Shining Clouds on Mars\", 'Life Goals: NASA Software Unlocks Martian Rover Productivity', 'Salts Could Be Important Piece of Martian Organic Puzzle', \"Seeing NASA's Ingenuity Mars Helicopter Fly in 3D\", \"Perseverance's Robotic Arm Starts Conducting Science\", \"NASA's Ingenuity Mars Helicopter Completes First One-Way Trip  \", \"NASA's Perseverance Captures Video, Audio of Fourth Ingenuity Flight\", \"NASA's Ingenuity Helicopter to Begin New Demonstration Phase\", 'NASA Sets Briefing to Discuss Ingenuity Mars Helicopter Next Steps', 'With Goals Met, NASA to Push Envelope With Ingenuity Mars Helicopter', \"NASA's Ingenuity Mars Helicopter Flies Faster, Farther on Third Flight\", \"NASA's Ingenuity Mars Helicopter Logs Second Successful Flight\", \"NASA's Perseverance Mars Rover Extracts First Oxygen From Red Planet\", \"NASA's Ingenuity Mars Helicopter Succeeds in Historic First Flight\", 'NASA to Attempt First Controlled Flight on Mars As Soon As Monday', \"NASA's Mars Helicopter to Make First Flight Attempt\", 'Webinars--Taking Flight: How Girls Can Grow up to Be Engineers ', \"Say Cheese on Mars: Perseverance's Selfie With Ingenuity\", \"NASA's Odyssey Orbiter Marks 20 Historic Years of Mapping Mars \", 'NASA Invites Public to Take Flight With Ingenuity Mars Helicopter ', \"NASA's First Weather Report From Jezero Crater on Mars\", \"NASA's Curiosity Team Names Martian Hill That Serves as Mission ‘Gateway'\", \"NASA's Mars Helicopter Survives First Cold Martian Night on Its Own\", \"NASA's InSight Detects Two Sizable Quakes on Mars\", 'Sensors Collect Crucial Data on Mars Landings With Arrival of Perseverance ', \"NASA's Curiosity Mars Rover Takes Selfie With 'Mont Mercou'\", 'NASA Ingenuity Mars Helicopter Prepares for First Flight', 'Another First: Perseverance Captures the Sounds of Driving on Mars', 'NASA to Host Briefing to Preview First Mars Helicopter Flights', \"New Study Challenges Long-Held Theory of Fate of Mars' Water\", \"NASA's Perseverance Mars Rover Mission Honors Navajo Language\", \"Perseverance Rover's SuperCam Science Instrument Delivers First Results\", \"NASA's Perseverance Drives on Mars' Terrain for First Time\", 'Media Telecon Materials - March 5, 2021', 'NASA Awards Mars Ascent Propulsion System Contract for Sample Return', \"NASA to Provide Update on Perseverance ‘Firsts' Since Mars Landing \", 'Testing Proves Its Worth With Successful Mars Parachute Deployment', \"NASA's Perseverance Rover Gives High-Definition Panoramic View of Landing Site\"]\n['The six-wheeled scientist is heading south to explore Jezero Crater’s lakebed in search of signs of ancient microbial life.', 'The spacecraft successfully cleared some dust off its solar panels, helping to raise its energy and delay when it will need to switch off its science instruments.', 'The science team is studying the clouds, which arrived earlier and formed higher than expected, to learn more about the Red Planet. ', 'Productivity pundits know lots of tricks to make the most of your day, so you can schedule enough time for important tasks while guarding against overload.', \"A NASA team has found that organic, or carbon-containing, salts are likely present on Mars, with implications for the Red Planet's past habitability.\", 'A new video of the helicopter’s third flight gives viewers the sensation of standing on the Red Planet and seeing the action firsthand.', 'NASA’s newest Mars rover is beginning to study the floor of an ancient crater that once held a lake.', 'The Red Planet rotorcraft headed south in support of furthering research into the potential use of aerial scouts on Mars in the future.', 'Sounds of the Mars Helicopter’s whirring rotors add another new dimension to the historic project.', 'The Red Planet rotorcraft will shift focus from proving flight is possible on Mars to demonstrating flight operations that future aerial craft could utilize.', 'With three successful flights in the logbook, Ingenuity has demonstrated it is ready for more.\\n\\n', 'With three successful flights in the logbook, Ingenuity has demonstrated it is ready for more.', 'The craft’s April 25 flight was conducted at speeds and distances beyond what had ever been previously demonstrated, even in testing on Earth.', 'The small rotorcraft’s horizons were expanded on its second flight. ', 'The milestone, which the MOXIE instrument achieved by converting carbon dioxide into oxygen, points the way to future human exploration of the Red Planet. ', 'The small rotorcraft made history, hovering above Jezero Crater, demonstrating that powered, controlled flight on another planet is possible.', 'A livestream will begin at 3:15 a.m. PDT that morning as the helicopter team prepares to receive the data downlink at NASA’s Jet Propulsion Laboratory.', 'The small rotorcraft’s “Wright brothers moment” is two Mars days away.', 'Do you like solving problems, working with other people, and making a difference? Consider a career in engineering!', 'NASA’s newest Mars rover used a camera on the end of its robotic arm to snap this shot of itself with the Ingenuity helicopter nearby.', 'For two decades, the longest-lived spacecraft at the Red Planet has helped locate water ice, assess landing sites, and study the planet’s mysterious moons.\\n', 'The helicopter is scheduled to lift off close to the end of the day on April 11.', 'Perseverance’s MEDA will help us understand how to prepare astronauts for a future on the Red Planet.', 'The name honors recently deceased mission scientist Rafael Navarro-González, who helped lead the team that identified ancient organic compounds on Mars', 'NASA’s Ingenuity helicopter can be seen on Mars as viewed by the Perseverance rover’s rear Hazard Camera on April 4, 2021, the 44th Martian day, or sol of the mission.', 'The magnitude 3.3 and 3.1 temblors originated in a region called Cerberus Fossae, further supporting the idea that this location is seismically active.', 'MEDLI2 was one of the crucial technologies onboard the rover’s protective aeroshell that helped document the entry, descent, and landing of the spacecraft. ', 'The rover also snapped a pair of panoramas to create a 3D view of the stark cliff face featured in the selfie.', 'Now uncocooned from its protective carbon-fiber shield, the helicopter is being readied for its next steps.  ', 'NASA’s newest rover recorded audio of itself crunching over the surface of the Red Planet, adding a whole new dimension to Mars exploration.', 'Members of the projects will lay out the steps necessary before the helicopter attempts its historic test flights. ', 'The new science results indicate that a large quantity of the Red Planet’s water is trapped in its crust rather than having escaped into space.', 'Working with the Navajo Nation, the rover team has named features on Mars with words from the Navajo language.', 'Data from the powerful science tool includes sounds of its laser zapping a rock in order to test what it’s made of.', 'The first trek of the agency’s largest, most advanced rover yet on the Red Planet marks a major milestone before science operations get under way.', 'Mission team members are participating in a virtual teleconference to discuss milestones achieved so far since the Feb. 18 landing and those to come.', 'The award moves NASA and ESA a step closer to realizing Mars Sample Return, an ambitious planetary exploration program that will build upon decades of science, knowledge, and experience.', 'Mission team members are participating in a virtual teleconference to discuss milestones achieved so far since the Feb. 18 landing and those to come.', 'The giant canopy that helped land Perseverance on Mars was tested here on Earth at NASA’s Wallops Flight Facility in Virginia.', 'A 360-degree panorama taken by the rover’s Mastcam-Z instrument will be discussed during a public video chat this Thursday.']\n"
     ]
    }
   ],
   "source": [
    "news_articles = []\n",
    "par_articles = []\n",
    "\n",
    "articles_finder = soup.find_all('div', class_='list_text')\n",
    "\n",
    "for article in articles_finder:\n",
    "    division = article.find('div', class_='content_title')\n",
    "    title = division.find('a').get_text()\n",
    "    news_articles.append(title)\n",
    "    par_division = article.find('div', class_='article_teaser_body')\n",
    "    par = par_division.get_text()\n",
    "    par_articles.append(par)\n",
    "print(news_articles)\n",
    "print(par_articles)\n"
   ]
  },
  {
   "cell_type": "code",
   "execution_count": 9,
   "metadata": {},
   "outputs": [
    {
     "output_type": "stream",
     "name": "stdout",
     "text": [
      "NASA's Perseverance Rover Begins Its First Science Campaign on Mars\nThe six-wheeled scientist is heading south to explore Jezero Crater’s lakebed in search of signs of ancient microbial life.\n"
     ]
    }
   ],
   "source": [
    "news_title = news_articles[0]\n",
    "\n",
    "news_par = par_articles[0]\n",
    "\n",
    "print(news_title)\n",
    "print(news_par)\n",
    "\n",
    "# featured_img_url = 'https://data-class-jpl-space.s3.amazonaws.com/JPL_Space/image/featured/mars1.jpg'"
   ]
  },
  {
   "cell_type": "code",
   "execution_count": 12,
   "metadata": {},
   "outputs": [
    {
     "output_type": "stream",
     "name": "stderr",
     "text": [
      "/Users/rosaicelaroman/opt/anaconda3/envs/PythonData/lib/python3.7/site-packages/splinter/driver/webdriver/__init__.py:485: FutureWarning: browser.find_link_by_partial_href is deprecated. Use browser.links.find_by_partial_href instead.\n",
      "  FutureWarning,\n",
      "https://data-class-jpl-space.s3.amazonaws.com/JPL_Space/index.html\n"
     ]
    }
   ],
   "source": [
    "#example found in https://evancalz.medium.com/web-automation-with-splinter-db2fe006ea45\n",
    "\n",
    "from splinter import Browser\n",
    "import time\n",
    "\n",
    "URL = 'https://data-class-jpl-space.s3.amazonaws.com/JPL_Space/index.html'\n",
    "# un-comment this if you are using Windows!\n",
    "# executable_path = {'executable_path': 'chromedriver.exe'}\n",
    "# browser = Browser('chrome', **executable_path)\n",
    "# this will open up a new headless browser and navigate to our URL\n",
    "browser = Browser('chrome')\n",
    "browser.visit(URL)\n",
    "# tell python to pause for 10s so we can observe the browser\n",
    "\n",
    "# first_found = browser.find_by_partial_text('featured').first\n",
    "links_found = browser.click_link_by_partial_href('featured')\n",
    "image_url = browser.url\n",
    "print(image_url)\n",
    "time.sleep(10)\n",
    "browser.quit()"
   ]
  },
  {
   "cell_type": "code",
   "execution_count": 13,
   "metadata": {},
   "outputs": [
    {
     "output_type": "stream",
     "name": "stdout",
     "text": [
      "https://data-class-jpl-space.s3.amazonaws.com/JPL_Space/index.html\n"
     ]
    }
   ],
   "source": [
    "featured_image_url = image_url\n",
    "print(featured_image_url)"
   ]
  },
  {
   "cell_type": "code",
   "execution_count": 14,
   "metadata": {},
   "outputs": [],
   "source": [
    "import pandas as pd\n",
    "#example followed: https://pythonbasics.org/pandas-web-scraping/\n",
    "\n",
    "pd_url = 'https://space-facts.com/mars/'\n",
    "\n",
    "mars_facts = pd.read_html(pd_url)"
   ]
  },
  {
   "cell_type": "code",
   "execution_count": 15,
   "metadata": {},
   "outputs": [
    {
     "output_type": "stream",
     "name": "stdout",
     "text": [
      "3\n"
     ]
    }
   ],
   "source": [
    "print(len(mars_facts))"
   ]
  },
  {
   "cell_type": "code",
   "execution_count": 16,
   "metadata": {},
   "outputs": [
    {
     "output_type": "stream",
     "name": "stdout",
     "text": [
      "                      0                              1\n0  Equatorial Diameter:                       6,792 km\n1       Polar Diameter:                       6,752 km\n2                 Mass:  6.39 × 10^23 kg (0.11 Earths)\n3                Moons:            2 (Phobos & Deimos)\n4       Orbit Distance:       227,943,824 km (1.38 AU)\n5         Orbit Period:           687 days (1.9 years)\n6  Surface Temperature:                   -87 to -5 °C\n7         First Record:              2nd millennium BC\n8          Recorded By:           Egyptian astronomers\n"
     ]
    }
   ],
   "source": [
    "print(mars_facts[0])"
   ]
  },
  {
   "cell_type": "code",
   "execution_count": 22,
   "metadata": {},
   "outputs": [
    {
     "output_type": "execute_result",
     "data": {
      "text/plain": [
       "             Parameters                         Values\n",
       "0  Equatorial Diameter:                       6,792 km\n",
       "1       Polar Diameter:                       6,752 km\n",
       "2                 Mass:  6.39 × 10^23 kg (0.11 Earths)\n",
       "3                Moons:            2 (Phobos & Deimos)\n",
       "4       Orbit Distance:       227,943,824 km (1.38 AU)\n",
       "5         Orbit Period:           687 days (1.9 years)\n",
       "6  Surface Temperature:                   -87 to -5 °C\n",
       "7         First Record:              2nd millennium BC\n",
       "8          Recorded By:           Egyptian astronomers"
      ],
      "text/html": "<div>\n<style scoped>\n    .dataframe tbody tr th:only-of-type {\n        vertical-align: middle;\n    }\n\n    .dataframe tbody tr th {\n        vertical-align: top;\n    }\n\n    .dataframe thead th {\n        text-align: right;\n    }\n</style>\n<table border=\"1\" class=\"dataframe\">\n  <thead>\n    <tr style=\"text-align: right;\">\n      <th></th>\n      <th>Parameters</th>\n      <th>Values</th>\n    </tr>\n  </thead>\n  <tbody>\n    <tr>\n      <th>0</th>\n      <td>Equatorial Diameter:</td>\n      <td>6,792 km</td>\n    </tr>\n    <tr>\n      <th>1</th>\n      <td>Polar Diameter:</td>\n      <td>6,752 km</td>\n    </tr>\n    <tr>\n      <th>2</th>\n      <td>Mass:</td>\n      <td>6.39 × 10^23 kg (0.11 Earths)</td>\n    </tr>\n    <tr>\n      <th>3</th>\n      <td>Moons:</td>\n      <td>2 (Phobos &amp; Deimos)</td>\n    </tr>\n    <tr>\n      <th>4</th>\n      <td>Orbit Distance:</td>\n      <td>227,943,824 km (1.38 AU)</td>\n    </tr>\n    <tr>\n      <th>5</th>\n      <td>Orbit Period:</td>\n      <td>687 days (1.9 years)</td>\n    </tr>\n    <tr>\n      <th>6</th>\n      <td>Surface Temperature:</td>\n      <td>-87 to -5 °C</td>\n    </tr>\n    <tr>\n      <th>7</th>\n      <td>First Record:</td>\n      <td>2nd millennium BC</td>\n    </tr>\n    <tr>\n      <th>8</th>\n      <td>Recorded By:</td>\n      <td>Egyptian astronomers</td>\n    </tr>\n  </tbody>\n</table>\n</div>"
     },
     "metadata": {},
     "execution_count": 22
    }
   ],
   "source": [
    "df = mars_facts[0]\n",
    "mars_facts_df = df.rename(columns={0: \"Parameters\", 1: \"Values\"})\n",
    "mars_facts_df"
   ]
  },
  {
   "cell_type": "code",
   "execution_count": 32,
   "metadata": {},
   "outputs": [],
   "source": [
    "driver.get(image_url)"
   ]
  },
  {
   "cell_type": "code",
   "execution_count": 33,
   "metadata": {},
   "outputs": [],
   "source": [
    "page_source = driver.page_source"
   ]
  },
  {
   "cell_type": "code",
   "execution_count": 34,
   "metadata": {},
   "outputs": [],
   "source": [
    "soup = bs(page_source, 'html')"
   ]
  },
  {
   "cell_type": "code",
   "execution_count": 35,
   "metadata": {},
   "outputs": [
    {
     "output_type": "stream",
     "name": "stdout",
     "text": [
      "<html lang=\"en\">\n <head>\n  <link href=\"//ajax.googleapis.com/ajax/libs/jqueryui/1.11.3/themes/smoothness/jquery-ui.css\" rel=\"stylesheet\" type=\"text/css\"/>\n  <title>\n   Astropedia Search Results | USGS Astrogeology Science Center\n  </title>\n  <meta content=\"USGS Astrogeology Science Center Astropedia search results.\" name=\"description\"/>\n  <meta content=\"USGS,Astrogeology Science Center,Cartography,Geology,Space,Geological Survey,Mapping\" name=\"keywords\"/>\n  <meta content=\"IE=edge\" http-equiv=\"X-UA-Compatible\"/>\n  <meta content=\"text/html; charset=utf-8\" http-equiv=\"Content-Type\"/>\n  <meta content=\"width=device-width, initial-scale=1, maximum-scale=1\" name=\"viewport\"/>\n  <meta content=\"x61hXXVj7wtfBSNOPnTftajMsZ5yB2W-qRoyr7GtOKM\" name=\"google-site-verification\"/>\n  <!--<link rel=\"stylesheet\" href=\"http://fonts.googleapis.com/css?family=Open+Sans:400italic,400,bold\"/>-->\n  <link href=\"/css/main.css\" media=\"screen\" rel=\"stylesheet\"/>\n  <link href=\"/css/print.css\" media=\"print\" rel=\"stylesheet\"/>\n  <!--[if lt IE 9]>\n\t\t\t<script src=\"http://html5shiv.googlecode.com/svn/trunk/html5.js\"></script>\n\t\t\t<script src=\"/js/respond.min.js\"></script>\n\t\t\t<link rel=\"stylesheet\" type=\"text/css\" href=\"/css/ie.css\"/>\n                        <script>\n                          document.createElement('header');\n                          document.createElement('nav');\n                          document.createElement('section');\n                          document.createElement('article');\n                          document.createElement('aside');\n                          document.createElement('footer');\n                          document.createElement('hgroup');\n                        </script>\n                  <![endif]-->\n  <link href=\"/favicon.ico\" rel=\"icon\" type=\"image/x-ico\"/>\n </head>\n <body id=\"results\">\n  <header>\n   <!--\n\t\t\t<h1>Astrogeology Science Center</h1>\n-->\n   <a href=\"https://www.usgs.gov/centers/astrogeo-sc\" style=\"float:right;margin-top:10px;\" target=\"_blank\">\n    <img alt=\"USGS: Science for a Changing World\" class=\"logo\" height=\"60\" src=\"/images/usgs_logo_main_2x.png\"/>\n   </a>\n   <a href=\"https://nasa.gov\" style=\"float:right;margin-top:5px;margin-right:20px;\" target=\"_blank\">\n    <img alt=\"NASA\" class=\"logo\" height=\"65\" src=\"/images/logos/nasa-logo-web-med.png\"/>\n   </a>\n   <a href=\"https://www.usgs.gov/centers/astrogeology-science-center/science/pds-cartography-and-imaging-sciences-node-usgs\" style=\"float:right;margin-top:5px;margin-right: 10px;\" target=\"_blank\">\n    <img alt=\"PDS Cartography and Imaging Science Node\" class=\"logo\" height=\"65\" src=\"/images/pds_logo-invisible-web.png\"/>\n   </a>\n  </header>\n  <div class=\"wrapper\">\n   <!--\n\t\t\t<nav>\n\t\t\t\t<a id=\"nav-toggle\" href=\"#\" title=\"Navigation Menu\">Menu</a>\n<ul class=\"dropdown dropdown-horizontal\" id=\"yw0\">\n<li><a href=\"/\">Home</a></li>\n<li><a href=\"/about\">About</a>\n<ul>\n<li><a href=\"/about/careers\">Careers</a></li>\n<li><a href=\"/contact\">Contact</a></li>\n<li><a href=\"/about/events\">Events</a></li>\n<li><a href=\"/site/glossary\">Glossary</a></li>\n<li><a href=\"/about/mission\">Mission</a></li>\n<li><a href=\"/news\">News</a></li>\n<li><a href=\"/people\">People</a></li>\n<li><a href=\"/about/using-our-images\">Using Our Images</a></li>\n<li><a href=\"/about/visitors\">Visitors</a></li>\n</ul>\n</li>\n<li><a href=\"/facilities\">Labs / Facilities</a>\n<ul>\n<li><a href=\"/facilities/flynn-creek-crater-sample-collection\">Flynn Creek Crater Sample Collection</a></li>\n<li><a href=\"http://www.moon-cal.org\">Lunar Calibration Project</a></li>\n<li><a href=\"/facilities/meteor-crater-sample-collection\">Meteor Crater Sample Collection</a></li>\n<li><a href=\"/facilities/mrctr\">MRCTR GIS Lab</a></li>\n<li><a href=\"/facilities/cartography-and-imaging-sciences-node-of-nasa-planetary-data-system\">PDS Cartography and Imaging Sciences Node</a></li>\n<li><a href=\"/pds/annex\">PDS IMG Annex</a></li>\n<li><a href=\"/facilities/photogrammetry-guest-facility\">Photogrammetry Guest Facility</a></li>\n<li><a href=\"/rpif\">Regional Planetary Information Facility (RPIF)</a></li>\n</ul>\n</li>\n<li><a href=\"/maps\">Maps / Products</a>\n<ul>\n<li><a href=\"/search\">Product Search</a></li>\n<li><a href=\"http://planetarynames.wr.usgs.gov\">Gazetteer of Planetary Nomenclature</a></li>\n<li><a href=\"http://planetarymapping.wr.usgs.gov\">Geologic Mapping Program</a></li>\n<li><a href=\"http://pilot.wr.usgs.gov\">Planetary Image Locator Tool (PILOT)</a></li>\n<li><a href=\"/search/planetary-index\">Planetary Map Index</a></li>\n</ul>\n</li>\n<li><a href=\"/geology\">Missions / Research</a>\n<ul>\n<li><a href=\"/geology/mars-dunes\">Mars Dunes</a></li>\n<li><a href=\"/geology/mars-ice\">Mars Ice</a></li>\n<li><a href=\"/missions\">Mission Support</a></li>\n<li><a href=\"/solar-system\">Solar System</a></li>\n<li><a href=\"/groups\">Working Groups</a></li>\n</ul>\n</li>\n<li><a href=\"/tools\">Tools</a>\n<ul>\n<li><a href=\"http://planetarynames.wr.usgs.gov\">Gazetteer of Planetary Nomenclature</a></li>\n<li><a href=\"http://isis.astrogeology.usgs.gov\">Integrated Software for Imagers and Spectrometers (ISIS)</a></li>\n<li><a href=\"http://astrogeology.usgs.gov/tools/map\">Map a Planet 2</a></li>\n<li><a href=\"http://pilot.wr.usgs.gov\">Planetary Image Locator Tool (PILOT)</a></li>\n<li><a href=\"http://astrocloud.wr.usgs.gov/\">Projection on the Web (POW)</a></li>\n</ul>\n</li>\n</ul>\t\t\t\t<form id=\"search\" class=\"search\" action=\"/search/results\" method=\"get\">\n\t\t\t\t\t<input type=\"submit\" value=\"\" title=\"Search Astropedia\"/>\n\t\t\t\t\t<input type=\"text\" placeholder=\"Search\" name=\"q\"/>\n\t\t\t\t</form>\n\t\t\t</nav>\n-->\n   <div class=\"container\">\n    <div class=\"widget block bar\">\n     <a href=\"/search\" style=\"float:right;text-decoration:none;\">\n      <img alt=\"Astropedia\" src=\"/images/astropedia/astropedia-logo-main.png\" style=\"width:200px;border:none;float:right;\"/>\n      <div style=\"clear:both;font-size:.8em;float:right;color:#888;\">\n       Lunar and Planetary Cartographic Catalog\n      </div>\n     </a>\n     <div style=\"float:left;height:60px;\">\n     </div>\n    </div>\n    <form action=\"/search/results\" class=\"bar widget block\" id=\"search-bar\">\n     <input name=\"q\" type=\"hidden\" value=\"hemisphere-enhanced\"/>\n     <input name=\"target\" type=\"hidden\" value=\"Mars\"/>\n     <input name=\"__ncforminfo\" type=\"hidden\" value=\"XdRvrrVQW1mq39JVQDEEm9gRJZweYbB_Tx9LH9ILrzQF12T07VNPPUGchQruH6ww-435_xJ_s-OSABCgzODtc8_40rZdfGP_x8HrM4wlyj7bYv9rVXZkOg==\"/>\n    </form>\n    <div class=\"full-content\">\n     <section class=\"block\" id=\"results-accordian\">\n      <div class=\"result-list\" data-section=\"product\" id=\"product-section\">\n       <div class=\"accordian\">\n        <h2>\n         Products\n        </h2>\n        <span class=\"count\">\n         4 Results\n        </span>\n        <span class=\"collapse\">\n         Collapse\n        </span>\n       </div>\n       <div class=\"collapsible results\">\n        <div class=\"item\">\n         <a class=\"itemLink product-item\" href=\"/search/map/Mars/Viking/cerberus_enhanced\">\n          <img alt=\"Cerberus Hemisphere Enhanced thumbnail\" class=\"thumb\" src=\"/cache/images/39d3266553462198bd2fbc4d18fbed17_cerberus_enhanced.tif_thumb.png\"/>\n         </a>\n         <div class=\"description\">\n          <a class=\"itemLink product-item\" href=\"/search/map/Mars/Viking/cerberus_enhanced\">\n           <h3>\n            Cerberus Hemisphere Enhanced\n           </h3>\n          </a>\n          <span class=\"subtitle\" style=\"float:left\">\n           image/tiff 21 MB\n          </span>\n          <span class=\"pubDate\" style=\"float:right\">\n          </span>\n          <br/>\n          <p>\n           Mosaic of the Cerberus hemisphere of Mars projected into point perspective, a view similar to that which one would see from a spacecraft. This mosaic is composed of 104 Viking Orbiter images acquired…\n          </p>\n         </div>\n         <!-- end description -->\n        </div>\n        <div class=\"item\">\n         <a class=\"itemLink product-item\" href=\"/search/map/Mars/Viking/schiaparelli_enhanced\">\n          <img alt=\"Schiaparelli Hemisphere Enhanced thumbnail\" class=\"thumb\" src=\"/cache/images/08eac6e22c07fb1fe72223a79252de20_schiaparelli_enhanced.tif_thumb.png\"/>\n         </a>\n         <div class=\"description\">\n          <a class=\"itemLink product-item\" href=\"/search/map/Mars/Viking/schiaparelli_enhanced\">\n           <h3>\n            Schiaparelli Hemisphere Enhanced\n           </h3>\n          </a>\n          <span class=\"subtitle\" style=\"float:left\">\n           image/tiff 35 MB\n          </span>\n          <span class=\"pubDate\" style=\"float:right\">\n          </span>\n          <br/>\n          <p>\n           Mosaic of the Schiaparelli hemisphere of Mars projected into point perspective, a view similar to that which one would see from a spacecraft. The images were acquired in 1980 during early northern…\n          </p>\n         </div>\n         <!-- end description -->\n        </div>\n        <div class=\"item\">\n         <a class=\"itemLink product-item\" href=\"/search/map/Mars/Viking/syrtis_major_enhanced\">\n          <img alt=\"Syrtis Major Hemisphere Enhanced thumbnail\" class=\"thumb\" src=\"/cache/images/55a0a1e2796313fdeafb17c35925e8ac_syrtis_major_enhanced.tif_thumb.png\"/>\n         </a>\n         <div class=\"description\">\n          <a class=\"itemLink product-item\" href=\"/search/map/Mars/Viking/syrtis_major_enhanced\">\n           <h3>\n            Syrtis Major Hemisphere Enhanced\n           </h3>\n          </a>\n          <span class=\"subtitle\" style=\"float:left\">\n           image/tiff 25 MB\n          </span>\n          <span class=\"pubDate\" style=\"float:right\">\n          </span>\n          <br/>\n          <p>\n           Mosaic of the Syrtis Major hemisphere of Mars projected into point perspective, a view similar to that which one would see from a spacecraft. This mosaic is composed of about 100 red and violet…\n          </p>\n         </div>\n         <!-- end description -->\n        </div>\n        <div class=\"item\">\n         <a class=\"itemLink product-item\" href=\"/search/map/Mars/Viking/valles_marineris_enhanced\">\n          <img alt=\"Valles Marineris Hemisphere Enhanced thumbnail\" class=\"thumb\" src=\"/cache/images/4e59980c1c57f89c680c0e1ccabbeff1_valles_marineris_enhanced.tif_thumb.png\"/>\n         </a>\n         <div class=\"description\">\n          <a class=\"itemLink product-item\" href=\"/search/map/Mars/Viking/valles_marineris_enhanced\">\n           <h3>\n            Valles Marineris Hemisphere Enhanced\n           </h3>\n          </a>\n          <span class=\"subtitle\" style=\"float:left\">\n           image/tiff 27 MB\n          </span>\n          <span class=\"pubDate\" style=\"float:right\">\n          </span>\n          <br/>\n          <p>\n           Mosaic of the Valles Marineris hemisphere of Mars projected into point perspective, a view similar to that which one would see from a spacecraft. The distance is 2500 kilometers from the surface of…\n          </p>\n         </div>\n         <!-- end description -->\n        </div>\n        <script>\n         addBases=[];;if(typeof resetLayerSwitcher===\"function\"){resetLayerSwitcher(false)};var productTotal = 4;\n        </script>\n       </div>\n       <!-- end this-section -->\n      </div>\n     </section>\n    </div>\n   </div>\n   <div class=\"icons projects black scroll-wrapper\">\n    <div class=\"scroll\">\n     <a class=\"icon\" href=\"http://isis.astrogeology.usgs.gov\" title=\"Integrated Software for Imagers and Spectrometers\">\n      <img alt=\"ISIS Logo\" height=\"112\" src=\"/images/logos/isis_2x.jpg\" width=\"112\"/>\n      <span class=\"label\">\n       ISIS\n      </span>\n     </a>\n     <a class=\"icon\" href=\"http://planetarynames.wr.usgs.gov\" title=\"Gazetteer of Planetary Nomenclature\">\n      <img alt=\"Nomenclature Logo\" height=\"112\" src=\"/images/logos/nomenclature_2x.jpg\" width=\"112\"/>\n      <span class=\"label\">\n       Planetary Nomenclature\n      </span>\n     </a>\n     <a class=\"icon\" href=\"https://astrogeology.usgs.gov/tools/map-a-planet-2\" title=\"Map a Planet 2\">\n      <img alt=\"Map-a-Planet Logo\" height=\"112\" src=\"/images/logos/map_a_planet_2x.jpg\" width=\"112\"/>\n      <span class=\"label\">\n       Map a Planet 2\n      </span>\n     </a>\n     <a class=\"icon\" href=\"https://www.usgs.gov/centers/astrogeo-sc/science/cartography-and-imaging-sciences-node-nasa-planetary-data-system\" title=\"PDS Cartography and Imaging Science Node\">\n      <img alt=\"PDS Logo\" height=\"112\" src=\"/images/pds_logo-black-web.png\"/>\n      <span class=\"label\">\n       PDS Cartography and Imaging Science Node\n      </span>\n     </a>\n     <!--\n\t\t\t\t\t\t<a title=\"Astropedia Search\" href=\"/search\" class=\"icon\">\n\t\t\t\t\t\t\t<img alt=\"Astropedia Logo\" height=\"112\" width=\"112\" src=\"/images/logos/astropedia_2x.jpg\"/>\n\t\t\t\t\t\t\t<span class=\"label\">Astropedia</span>\n\t\t\t\t\t\t</a>\n-->\n     <a class=\"icon\" href=\"https://www.usgs.gov/centers/astrogeo-sc/science/regional-planetary-image-facility-rpif\" title=\"Regional Planetary Image Facility\">\n      <img alt=\"RPIF Logo\" height=\"112\" src=\"/images/logos/rpif_2x.jpg\" width=\"112\"/>\n      <span class=\"label\">\n       RPIF\n      </span>\n     </a>\n     <a class=\"icon\" href=\"\" title=\"Photogrammetry Guest Facility\">\n      <img alt=\"Photogrammetry Guest Faciltiy Logo\" height=\"112\" src=\"/images/logos/photogrammetry_2x.jpg\" width=\"112\"/>\n      <span class=\"label\">\n       Photogrammetry Guest Facility\n      </span>\n     </a>\n     <a class=\"icon\" href=\"http://pilot.wr.usgs.gov\" title=\"Planetary Image Locator Tool\">\n      <img alt=\"Pilot Logo\" height=\"112\" src=\"/images/logos/pilot_2x.jpg\" width=\"112\"/>\n      <span class=\"label\">\n       PILOT\n      </span>\n     </a>\n     <a class=\"icon\" href=\"https://www.usgs.gov/centers/astrogeo-sc/science/mrctr-gis-lab\" title=\"Mapping, Remote-sensing, Cartography, Technology and Research GIS Lab\">\n      <img alt=\"MRCTR GIS Lab Logo\" height=\"112\" src=\"/images/logos/mrctr_man_2x.png\" width=\"112\"/>\n      <span class=\"label\">\n       MRCTR GIS Lab\n      </span>\n     </a>\n    </div>\n   </div>\n   <footer>\n    <div class=\"left\">\n     <a href=\"./search\">\n      Search\n     </a>\n     |\n     <a href=\"http://astrogeology.usgs.gov/maps/about\">\n      About\n     </a>\n     |\n     <a href=\"http://astrogeology.usgs.gov/maps/contact\">\n      Contact\n     </a>\n    </div>\n    <div class=\"right\">\n     <a href=\"https://www.usgs.gov/centers/astrogeo-sc\">\n      USGS Astrogeology Science Center\n     </a>\n    </div>\n   </footer>\n  </div>\n  <!--\n\t\t<div class=\"credit\">\n\t\t\t<small>Background Credits: NASA/USGS</small>\n\t\t</div>\n-->\n  <div class=\"page-background\" style=\"\n\t\t\tbackground:url('/images/backgrounds/mars.jpg');\n\t\t\tfilter:progid:DXImageTransform.Microsoft.AlphaImageLoader(\n\t\t\t\tsrc='/images/backgrounds/mars.jpg', sizingMethod='scale');\n\t\t\">\n  </div>\n  <script type=\"text/javascript\">\n   var baseUrl = \"\";\n\n/*\nvar _gaq = _gaq || [];_gaq.push(['_setAccount', 'UA-27613186-1']);_gaq.push(['_trackPageview']);(function() { var ga = document.createElement('script'); ga.type = 'text/javascript'; ga.async = true;ga.src = ('https:' == document.location.protocol ? 'https://ssl' : 'http://www') + '.google-analytics.com/ga.js'; var s = document.getElementsByTagName('script')[0]; s.parentNode.insertBefore(ga, s);})();\n*/\n  </script>\n  <script src=\"https://ajax.googleapis.com/ajax/libs/jquery/1.11.1/jquery.min.js\" type=\"text/javascript\">\n  </script>\n  <script src=\"//ajax.googleapis.com/ajax/libs/jqueryui/1.11.3/jquery-ui.min.js\" type=\"text/javascript\">\n  </script>\n  <script src=\"/js/general.js\" type=\"text/javascript\">\n  </script>\n </body>\n</html>\n"
     ]
    }
   ],
   "source": [
    "print(soup.prettify())"
   ]
  },
  {
   "cell_type": "code",
   "execution_count": 54,
   "metadata": {},
   "outputs": [
    {
     "output_type": "stream",
     "name": "stdout",
     "text": [
      "['/search/map/Mars/Viking/cerberus_enhanced', '/search/map/Mars/Viking/schiaparelli_enhanced', '/search/map/Mars/Viking/syrtis_major_enhanced', '/search/map/Mars/Viking/valles_marineris_enhanced']\n"
     ]
    }
   ],
   "source": [
    "image_links = []\n",
    "\n",
    "links_finder = soup.find_all('div', class_='item')\n",
    "\n",
    "for link in links_finder:\n",
    "   \n",
    "    link = link.a['href']\n",
    " \n",
    "    image_links.append(link)\n",
    "    \n",
    "print(image_links)\n"
   ]
  },
  {
   "cell_type": "code",
   "execution_count": 123,
   "metadata": {},
   "outputs": [
    {
     "output_type": "stream",
     "name": "stdout",
     "text": [
      "['https://astrogeology.usgs.gov/search/map/Mars/Viking/cerberus_enhanced', 'https://astrogeology.usgs.gov/search/map/Mars/Viking/schiaparelli_enhanced', 'https://astrogeology.usgs.gov/search/map/Mars/Viking/syrtis_major_enhanced', 'https://astrogeology.usgs.gov/search/map/Mars/Viking/valles_marineris_enhanced']\n"
     ]
    }
   ],
   "source": [
    "\n",
    "base_url = 'https://astrogeology.usgs.gov'\n",
    "\n",
    "browser = Browser('chrome')\n",
    "\n",
    "img_urls = []\n",
    "\n",
    "for link in image_links:\n",
    "    browser.visit(base_url + link)\n",
    "    img_urls.append(browser.url)\n",
    "    \n",
    "    time.sleep(30)\n",
    "    \n",
    "\n",
    "browser.quit()\n",
    "print(img_urls)"
   ]
  },
  {
   "cell_type": "code",
   "execution_count": 161,
   "metadata": {},
   "outputs": [
    {
     "output_type": "stream",
     "name": "stdout",
     "text": [
      "['https://astropedia.astrogeology.usgs.gov/download/Mars/Viking/cerberus_enhanced.tif/full.jpg']\n"
     ]
    }
   ],
   "source": [
    "# driver.get(image_url)\n",
    "# browser.visit(URL)\n",
    "\n",
    "images = []\n",
    "for url in img_urls:\n",
    "    driver.get(url)\n",
    "    page_source = driver.page_source\n",
    "    soup = bs(page_source, 'html')\n",
    "    # link.click()\n",
    "    links_finder = soup.find_all('div', class_='downloads')\n",
    "    for link in links_finder:\n",
    "   \n",
    "        link = link.a['href']\n",
    " \n",
    "        images.append(link)\n",
    "    # image = browser.url\n",
    "    # images.append(image)\n",
    "   \n",
    "\n",
    "\n",
    "print(images)\n",
    "\n",
    "time.sleep(10)"
   ]
  },
  {
   "cell_type": "code",
   "execution_count": null,
   "metadata": {},
   "outputs": [],
   "source": []
  }
 ]
}